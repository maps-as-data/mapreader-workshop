{
 "cells": [
  {
   "cell_type": "markdown",
   "metadata": {},
   "source": [
    "# MapReader Workshop @ ADHO DH 2025\n",
    "## Text Spotting with IIIF Resources\n",
    "\n",
    "\n",
    "**For use in Google Colab**\n",
    " "
   ]
  },
  {
   "cell_type": "markdown",
   "metadata": {},
   "source": [
    "Written by Rosie Wood and Katherine McDonough.\n",
    "Reviewed and tested by Kaspar Beelen and Daniel Wilson.\n",
    "\n",
    "Learn more about the MapReader team at https://github.com/maps-as-data/MapReader?tab=readme-ov-file#contributors. "
   ]
  },
  {
   "cell_type": "markdown",
   "metadata": {},
   "source": [
    "Run the next cell while we go through the slides."
   ]
  },
  {
   "cell_type": "code",
   "execution_count": null,
   "metadata": {},
   "outputs": [],
   "source": [
    "# set up for google colab - this cell will take a while to run!\n",
    "!git clone https://github.com/maps-as-data/workshop-dh2025\n",
    "!pip install -r workshop-dh2025/requirements.txt\n",
    "\n",
    "!git clone https://github.com/maps-as-data/MapTextPipeline.git"
   ]
  },
  {
   "cell_type": "code",
   "execution_count": null,
   "metadata": {},
   "outputs": [],
   "source": [
    "# enable custom widgets in colab\n",
    "from google.colab import output\n",
    "output.enable_custom_widget_manager()"
   ]
  },
  {
   "cell_type": "markdown",
   "metadata": {},
   "source": [
    "# Download"
   ]
  },
  {
   "cell_type": "code",
   "execution_count": null,
   "metadata": {},
   "outputs": [],
   "source": [
    "from mapreader import IIIFDownloader\n",
    "\n",
    "from piffle.load_iiif import load_iiif_image, load_iiif_presentation"
   ]
  },
  {
   "cell_type": "markdown",
   "metadata": {},
   "source": [
    "# Georeferenced Map Example\n",
    "\n",
    "Leventhal Map & Education Center, Boston Public Library\n",
    "\n",
    "*Path map of the eastern part of Mount Desert Island, Maine* (1903)\n",
    "\n",
    "https://collections.leventhalmap.org/search/commonwealth:cj82m682d\n",
    "\n",
    "- IIF Manifest - https://collections.leventhalmap.org/search/commonwealth:cj82m682d/manifest\n",
    "- Allmaps viewer - https://viewer.allmaps.org/?url=https%3A%2F%2Fannotations.allmaps.org%2Fimages%2Ff29ad52e4d2477a2\n",
    "- Allmaps georeference annotation - https://annotations.allmaps.org/images/f29ad52e4d2477a2\n"
   ]
  },
  {
   "cell_type": "code",
   "execution_count": null,
   "metadata": {},
   "outputs": [],
   "source": [
    "# Download\n",
    "\n",
    "downloader = IIIFDownloader(\n",
    "    \"https://annotations.allmaps.org/images/f29ad52e4d2477a2\",\n",
    "    iiif_versions=3,\n",
    "    iiif_uris=\"https://annotations.allmaps.org/images/f29ad52e4d2477a2\"\n",
    ")"
   ]
  },
  {
   "cell_type": "code",
   "execution_count": null,
   "metadata": {},
   "outputs": [],
   "source": [
    "# save the maps as geotiffs\n",
    "downloader.save_georeferenced_maps()"
   ]
  },
  {
   "cell_type": "markdown",
   "metadata": {},
   "source": [
    "# Load\n",
    "\n",
    "https://mapreader.readthedocs.io/en/latest/using-mapreader/step-by-step-guide/2-load.html"
   ]
  },
  {
   "cell_type": "code",
   "execution_count": null,
   "metadata": {},
   "outputs": [],
   "source": [
    "from mapreader import loader"
   ]
  },
  {
   "cell_type": "code",
   "execution_count": null,
   "metadata": {},
   "outputs": [],
   "source": [
    "from PIL import Image\n",
    "Image.MAX_IMAGE_PIXELS = None  # Disable limit on image size\n",
    "\n",
    "\n",
    "# change this path to the saved IIIF image you want to load\n",
    "my_files = loader(\"./maps/ea5a3e20e44cea9c_masked.tif\")"
   ]
  },
  {
   "cell_type": "code",
   "execution_count": null,
   "metadata": {},
   "outputs": [],
   "source": [
    "# len() shows the total number of images currently read (or sliced, see below)\n",
    "print(f\"Number of images: {len(my_files)}\")"
   ]
  },
  {
   "cell_type": "code",
   "execution_count": null,
   "metadata": {},
   "outputs": [],
   "source": [
    "print(my_files)"
   ]
  },
  {
   "cell_type": "code",
   "execution_count": null,
   "metadata": {},
   "outputs": [],
   "source": [
    "my_files.add_metadata(\"./maps/metadata.csv\")"
   ]
  },
  {
   "cell_type": "code",
   "execution_count": null,
   "metadata": {},
   "outputs": [],
   "source": [
    "parent_list = my_files.list_parents()"
   ]
  },
  {
   "cell_type": "markdown",
   "metadata": {},
   "source": [
    "## Patchify map"
   ]
  },
  {
   "cell_type": "code",
   "execution_count": null,
   "metadata": {},
   "outputs": [],
   "source": [
    "my_files.patchify_all(patch_size=1000, path_save=\"./patches_1000_pixel\")  # in pixels"
   ]
  },
  {
   "cell_type": "code",
   "execution_count": null,
   "metadata": {},
   "outputs": [],
   "source": [
    "my_files.show_sample(num_samples=12, tree_level=\"patch\")"
   ]
  },
  {
   "cell_type": "code",
   "execution_count": null,
   "metadata": {},
   "outputs": [],
   "source": [
    "my_files.show_patches(\n",
    "    parent_id=parent_list[0],\n",
    "    figsize=(15, 15)\n",
    ")"
   ]
  },
  {
   "cell_type": "markdown",
   "metadata": {},
   "source": [
    "For georeferenced maps: Add coordinate increments for text spotting (1 degree latitude = X pixels)"
   ]
  },
  {
   "cell_type": "code",
   "execution_count": null,
   "metadata": {},
   "outputs": [],
   "source": [
    "my_files.add_coord_increments()"
   ]
  },
  {
   "cell_type": "code",
   "execution_count": null,
   "metadata": {},
   "outputs": [],
   "source": [
    "parent_df, patch_df = my_files.convert_images(save=True)"
   ]
  },
  {
   "cell_type": "code",
   "execution_count": null,
   "metadata": {},
   "outputs": [],
   "source": [
    "parent_df.head()"
   ]
  },
  {
   "cell_type": "code",
   "execution_count": null,
   "metadata": {},
   "outputs": [],
   "source": [
    "patch_df.head()"
   ]
  },
  {
   "cell_type": "code",
   "execution_count": null,
   "metadata": {},
   "outputs": [],
   "source": [
    "patch_list = my_files.list_patches()"
   ]
  },
  {
   "cell_type": "markdown",
   "metadata": {},
   "source": [
    "## Detect Text\n",
    "\n",
    "Here, we show how to load an already fine-tuned text spotting (detection & recognition) model and run the model inference on your patches."
   ]
  },
  {
   "cell_type": "markdown",
   "metadata": {},
   "source": [
    "Download 'rumsey-finetune.pth' from https://drive.google.com/drive/folders/1AEURUafbgx8tnA83uvIwq8_hxae0U008?usp=sharing.\n",
    "\n",
    "Add to the 'MapTextPipeline' folder in your Google Colab environment."
   ]
  },
  {
   "cell_type": "code",
   "execution_count": null,
   "metadata": {},
   "outputs": [],
   "source": [
    "# SEE NOTE ABOVE ABOUT DOWNLOADING THE MODEL WEIGHTS\n",
    "\n",
    "# Then change this to your own path, see the README for more details on how to get these\n",
    "MAPTEXT_MODEL_PATH = \"./MapTextPipeline/rumsey-finetune.pth\""
   ]
  },
  {
   "cell_type": "code",
   "execution_count": null,
   "metadata": {},
   "outputs": [],
   "source": [
    "# https://github.com/maps-as-data/MapTextPipeline\n",
    "\n",
    "cfg_file = f\"./MapTextPipeline/final_rumsey.yaml\"\n",
    "weights_file = MAPTEXT_MODEL_PATH\n"
   ]
  },
  {
   "cell_type": "code",
   "execution_count": null,
   "metadata": {},
   "outputs": [],
   "source": [
    "# Set parameters for MapTextPipeline model\n",
    "\n",
    "from mapreader import MapTextRunner\n",
    "\n",
    "my_runner = MapTextRunner(\n",
    "    patch_df,\n",
    "    parent_df,\n",
    "    cfg_file = cfg_file,\n",
    "    weights_file = weights_file,\n",
    "    device = \"cpu\",\n",
    ")"
   ]
  },
  {
   "cell_type": "markdown",
   "metadata": {},
   "source": [
    "### Run on all patches in the patch dataframe"
   ]
  },
  {
   "cell_type": "code",
   "execution_count": null,
   "metadata": {},
   "outputs": [],
   "source": [
    "# takes approx 25 mins to run on M1 MacBook Pro\n",
    "# If this is too long, uncomment the cell below and then run on just the first 8 patches\n",
    "\n",
    "# my_runner.patch_df = my_runner.patch_df[:8]\n",
    "\n",
    "patch_predictions = my_runner.run_all(return_dataframe=True)"
   ]
  },
  {
   "cell_type": "code",
   "execution_count": null,
   "metadata": {},
   "outputs": [],
   "source": [
    "my_runner.show_predictions(\n",
    "    patch_list[0],\n",
    "    figsize=(15, 15),\n",
    "    border_color=\"r\",\n",
    "    text_color=\"b\",\n",
    "    )"
   ]
  },
  {
   "cell_type": "markdown",
   "metadata": {},
   "source": [
    "## Scale up to parent images"
   ]
  },
  {
   "cell_type": "code",
   "execution_count": null,
   "metadata": {},
   "outputs": [],
   "source": [
    "parent_predictions = my_runner.convert_to_parent_pixel_bounds(return_dataframe=True)"
   ]
  },
  {
   "cell_type": "code",
   "execution_count": null,
   "metadata": {},
   "outputs": [],
   "source": [
    "parent_predictions.head()"
   ]
  },
  {
   "cell_type": "code",
   "execution_count": null,
   "metadata": {},
   "outputs": [],
   "source": [
    "my_runner.show_predictions(\n",
    "    parent_list[0],\n",
    "    figsize=(15, 15),\n",
    "    border_color=\"r\",\n",
    "    text_color=\"b\",\n",
    "    )"
   ]
  },
  {
   "cell_type": "markdown",
   "metadata": {},
   "source": [
    "## Concert pixel bounds to coordinates"
   ]
  },
  {
   "cell_type": "code",
   "execution_count": null,
   "metadata": {},
   "outputs": [],
   "source": [
    "geo_predictions = my_runner.convert_to_coords(return_dataframe=True)"
   ]
  },
  {
   "cell_type": "markdown",
   "metadata": {},
   "source": [
    "Saving these outputs will give you a geojson file you can load into a GIS software."
   ]
  },
  {
   "cell_type": "code",
   "execution_count": null,
   "metadata": {},
   "outputs": [],
   "source": [
    "my_runner.to_geojson(\"./example_output.geojson\")"
   ]
  },
  {
   "cell_type": "code",
   "execution_count": null,
   "metadata": {},
   "outputs": [],
   "source": []
  }
 ],
 "metadata": {
  "kernelspec": {
   "display_name": "workshop-dh2025",
   "language": "python",
   "name": "python3"
  },
  "language_info": {
   "codemirror_mode": {
    "name": "ipython",
    "version": 3
   },
   "file_extension": ".py",
   "mimetype": "text/x-python",
   "name": "python",
   "nbconvert_exporter": "python",
   "pygments_lexer": "ipython3",
   "version": "3.12.11"
  }
 },
 "nbformat": 4,
 "nbformat_minor": 2
}
